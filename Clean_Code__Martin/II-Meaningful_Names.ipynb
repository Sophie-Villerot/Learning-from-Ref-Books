{
 "cells": [
  {
   "cell_type": "markdown",
   "metadata": {},
   "source": [
    "# Meaningful Names\n",
    "\n",
    "\n",
    "## 1 - Introduction\n",
    "\n",
    "## 2 - Use Intention-Revealing Names\n",
    "\n",
    "## 3 - Avoid Disinformation\n",
    "\n",
    "## 4 - Make Meaningful Distinctions\n",
    "\n",
    "## 5 - Use Pronounceable Names\n",
    "\n",
    "## 6 - Use Searchable Names\n",
    "\n",
    "## 7 - Avoid Encodings\n",
    "\n",
    "## 8 - Avoid Mental Mapping\n",
    "\n",
    "## 9 - Class Names\n",
    "\n",
    "## 10 - Method Names\n",
    "\n",
    "## 11 - Don't Be Cute\n",
    "\n",
    "## 12 - Pick One Word per Concept\n",
    "\n",
    "## 13 - Don't Pun\n",
    "\n",
    "## 14 - Use Solution Domain Names\n",
    "\n",
    "## 15 - Use Problem Domain Names\n",
    "\n",
    "## 16 - Add Meaningful Context\n",
    "\n",
    "## 17 - Don't Add Gratyutous Context\n",
    "\n",
    "## 18 - Final Words"
   ]
  },
  {
   "cell_type": "code",
   "execution_count": null,
   "metadata": {},
   "outputs": [],
   "source": []
  }
 ],
 "metadata": {
  "kernelspec": {
   "display_name": "Python 3",
   "language": "python",
   "name": "python3"
  },
  "language_info": {
   "codemirror_mode": {
    "name": "ipython",
    "version": 3
   },
   "file_extension": ".py",
   "mimetype": "text/x-python",
   "name": "python",
   "nbconvert_exporter": "python",
   "pygments_lexer": "ipython3",
   "version": "3.9.5"
  }
 },
 "nbformat": 4,
 "nbformat_minor": 4
}
