{
 "cells": [
  {
   "cell_type": "markdown",
   "metadata": {},
   "source": [
    "# Clean Code\n",
    "\n",
    "## 1 - There will be code\n",
    "\n",
    "## 2 - Bad Code\n",
    "\n",
    "## 3 - The Total Cost of Owning a Mess\n",
    "\n",
    "## 4 - Schools of Thought\n",
    "\n",
    "## 5 - We are Authors\n",
    "\n",
    "## 6 - The Boy Scout Rule\n",
    "\n",
    "## 7 - Prequel and Principles\n",
    "\n",
    "## 8 - Conclusion\n",
    "\n",
    "## 9 - Bibliography"
   ]
  },
  {
   "cell_type": "code",
   "execution_count": null,
   "metadata": {},
   "outputs": [],
   "source": []
  }
 ],
 "metadata": {
  "kernelspec": {
   "display_name": "Python 3",
   "language": "python",
   "name": "python3"
  },
  "language_info": {
   "codemirror_mode": {
    "name": "ipython",
    "version": 3
   },
   "file_extension": ".py",
   "mimetype": "text/x-python",
   "name": "python",
   "nbconvert_exporter": "python",
   "pygments_lexer": "ipython3",
   "version": "3.9.5"
  }
 },
 "nbformat": 4,
 "nbformat_minor": 4
}
