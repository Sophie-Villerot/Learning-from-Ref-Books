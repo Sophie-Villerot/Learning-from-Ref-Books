{
 "cells": [
  {
   "cell_type": "markdown",
   "metadata": {},
   "source": [
    "# Growth of Functions\n",
    "\n",
    "### 1 -Asymptotic Notation\n",
    "\n",
    "#### Asymptotic notation, functions, and running time\n",
    "\n",
    "#### $\\Theta$-notation\n",
    "\n",
    "#### $O$-notation\n",
    "\n",
    "#### $\\Omega$-notation\n",
    "\n",
    "#### Asymptotic notation in equations and inequalities\n",
    "\n",
    "#### $o$-notation\n",
    "\n",
    "#### $\\omega$-notation\n",
    "\n",
    "#### Comparing functions\n",
    "\n",
    "#### Exercices"
   ]
  },
  {
   "cell_type": "markdown",
   "metadata": {},
   "source": [
    "### 2 - Standard notations and common functions\n",
    "\n",
    "#### Monotonicity\n",
    "\n",
    "#### Floors and Ceilings\n",
    "\n",
    "#### Modular Arithmetic\n",
    "\n",
    "#### Polynomials\n",
    "\n",
    "#### Exponentials\n",
    "\n",
    "#### Logarithms\n",
    "\n",
    "#### Factorials\n",
    "\n",
    "#### Functional ietration\n",
    "\n",
    "#### The iterated logarithm function\n",
    "\n",
    "#### Fibonacci numbers\n",
    "\n",
    "#### Exercices\n",
    "\n",
    "#### Problems"
   ]
  },
  {
   "cell_type": "code",
   "execution_count": null,
   "metadata": {},
   "outputs": [],
   "source": []
  }
 ],
 "metadata": {
  "kernelspec": {
   "display_name": "Python 3",
   "language": "python",
   "name": "python3"
  },
  "language_info": {
   "codemirror_mode": {
    "name": "ipython",
    "version": 3
   },
   "file_extension": ".py",
   "mimetype": "text/x-python",
   "name": "python",
   "nbconvert_exporter": "python",
   "pygments_lexer": "ipython3",
   "version": "3.7.5"
  }
 },
 "nbformat": 4,
 "nbformat_minor": 4
}
