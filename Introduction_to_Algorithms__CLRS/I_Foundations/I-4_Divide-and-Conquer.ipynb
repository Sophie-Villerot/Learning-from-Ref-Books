{
 "cells": [
  {
   "cell_type": "markdown",
   "metadata": {},
   "source": [
    "# Divide-and-Conquer\n",
    "\n",
    "### Recurrences\n",
    "\n",
    "### Technicalities in reccurrences\n",
    "\n",
    "## The Maximum-Subarray problem\n",
    "\n",
    "### A brute force solution\n",
    "\n",
    "### A transformation\n",
    "\n",
    "### A solution using divide-and-conquer\n",
    "\n",
    "### Analyzing the divide-and-conquer solution\n",
    "\n",
    "#### Exercices"
   ]
  },
  {
   "cell_type": "code",
   "execution_count": null,
   "metadata": {},
   "outputs": [],
   "source": []
  },
  {
   "cell_type": "markdown",
   "metadata": {},
   "source": [
    "## Strassen's algorithm for matrix multiplication\n",
    "\n",
    "### A simple divide-and-conquer algorithm\n",
    "\n",
    "#### Exercices\n"
   ]
  },
  {
   "cell_type": "code",
   "execution_count": null,
   "metadata": {},
   "outputs": [],
   "source": []
  },
  {
   "cell_type": "markdown",
   "metadata": {},
   "source": [
    "## The substitution method for solving recurrences\n",
    "\n",
    "### Making a good guess\n",
    "\n",
    "### Subtleties\n",
    "\n",
    "### Avoiding pitfalls\n",
    "\n",
    "### Changing variables\n",
    "\n",
    "#### Exercises\n"
   ]
  },
  {
   "cell_type": "code",
   "execution_count": null,
   "metadata": {},
   "outputs": [],
   "source": []
  },
  {
   "cell_type": "markdown",
   "metadata": {},
   "source": [
    "## The recursion-tree method for solving recurrences\n",
    "\n",
    "#### Exercises\n"
   ]
  },
  {
   "cell_type": "code",
   "execution_count": null,
   "metadata": {},
   "outputs": [],
   "source": []
  },
  {
   "cell_type": "markdown",
   "metadata": {},
   "source": [
    "## The master method for solving recurrences\n",
    "\n",
    "### The master theorem\n",
    "\n",
    "### Using the master method\n",
    "\n",
    "#### Exercises"
   ]
  },
  {
   "cell_type": "code",
   "execution_count": null,
   "metadata": {},
   "outputs": [],
   "source": []
  },
  {
   "cell_type": "markdown",
   "metadata": {},
   "source": [
    "## Proof of the master theorem\n",
    "\n",
    "### The proof for exact powers\n",
    "\n",
    "### Floors and ceilings\n",
    "\n",
    "#### Exercises\n"
   ]
  },
  {
   "cell_type": "code",
   "execution_count": null,
   "metadata": {},
   "outputs": [],
   "source": []
  },
  {
   "cell_type": "markdown",
   "metadata": {},
   "source": [
    "#### Problems"
   ]
  },
  {
   "cell_type": "code",
   "execution_count": null,
   "metadata": {},
   "outputs": [],
   "source": []
  }
 ],
 "metadata": {
  "kernelspec": {
   "display_name": "Python 3",
   "language": "python",
   "name": "python3"
  },
  "language_info": {
   "codemirror_mode": {
    "name": "ipython",
    "version": 3
   },
   "file_extension": ".py",
   "mimetype": "text/x-python",
   "name": "python",
   "nbconvert_exporter": "python",
   "pygments_lexer": "ipython3",
   "version": "3.7.5"
  }
 },
 "nbformat": 4,
 "nbformat_minor": 4
}
