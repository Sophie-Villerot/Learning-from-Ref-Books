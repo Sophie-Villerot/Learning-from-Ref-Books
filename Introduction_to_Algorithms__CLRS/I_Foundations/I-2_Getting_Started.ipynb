{
 "cells": [
  {
   "cell_type": "code",
   "execution_count": 1,
   "metadata": {},
   "outputs": [],
   "source": [
    "#  TODO: finish ex. 2-2.3\n",
    "#  TODO: answer ex. 2.3-3 through 2.3-7\n",
    "#  TODO: answer pb. 2.1 through 2.4"
   ]
  },
  {
   "cell_type": "markdown",
   "metadata": {},
   "source": [
    "# Getting started\n",
    "\n",
    "### 1 - Insertion sort\n",
    "\n",
    "**input:** a sequence of _n_ numbers $\\langle a_1, a_2, ..., a_n  \\rangle$\n",
    "\n",
    "**output:** a permutation $\\langle a_1', a_2', ..., a_n' \\rangle$ of the input sequence such that $a_1' \\leq a_2' \\leq ... \\leq a_n'$\n",
    "\n",
    "The numbers are known as **keys**."
   ]
  },
  {
   "cell_type": "code",
   "execution_count": 2,
   "metadata": {},
   "outputs": [],
   "source": [
    "def insertion_sort(m_array):\n",
    "    for j in range(0, len(m_array)):\n",
    "        key = m_array[j]\n",
    "        i = j - 1\n",
    "        while ((i >= 0) and (m_array[i]) > key):\n",
    "            m_array[i + 1] = m_array[i]\n",
    "            i = i - 1\n",
    "        m_array[i + 1] = key\n",
    "    return m_array"
   ]
  },
  {
   "cell_type": "markdown",
   "metadata": {},
   "source": [
    "To understand and assess the correctness of algorithms, **loop invariant** are used. 3 conditions must be fulfilled to show the existence of such a parameter:\n",
    "  - **initialization**: it is true prior to the first iteration of the loop;\n",
    "  - **maintenance**: it is true before an iteration of the loop, it remains true before the next iteration;\n",
    "  - **termination**: at the loop termnation, this property of invariance helps show that the algorithm is correct.\n",
    "\n",
    "#### Exercices\n",
    "\n",
    "##### 2.1-1 Apply `insertion_sort` to the array $A = [31, 41, 59, 26, 41, 58]$"
   ]
  },
  {
   "cell_type": "code",
   "execution_count": 3,
   "metadata": {},
   "outputs": [
    {
     "name": "stdout",
     "output_type": "stream",
     "text": [
      "[26, 31, 41, 41, 58, 59]\n"
     ]
    }
   ],
   "source": [
    "array_to_sort = [31, 41, 59, 26, 41, 58]\n",
    "print(insertion_sort(array_to_sort))"
   ]
  },
  {
   "cell_type": "markdown",
   "metadata": {},
   "source": [
    "##### 2.1-2 Rewrite `insertion_sort` to sort into non-increasing instead of non-decreasing order"
   ]
  },
  {
   "cell_type": "code",
   "execution_count": 4,
   "metadata": {},
   "outputs": [
    {
     "name": "stdout",
     "output_type": "stream",
     "text": [
      "[59, 58, 41, 41, 31, 26]\n"
     ]
    }
   ],
   "source": [
    "def insertion_sort_dec(m_array):\n",
    "    for j in range(0, len(m_array)):\n",
    "        key = m_array[j]\n",
    "        i = j - 1\n",
    "        while ((i >= 0) and (m_array[i]) < key):\n",
    "            m_array[i + 1] = m_array[i]\n",
    "            i = i - 1\n",
    "        m_array[i + 1] = key\n",
    "    return m_array\n",
    "\n",
    "print(insertion_sort_dec(array_to_sort))"
   ]
  },
  {
   "cell_type": "markdown",
   "metadata": {},
   "source": [
    "##### 2.1-3 Consider the following problem:\n",
    "\n",
    "**input:** a sequence of _n_ numbers $A = \\langle a_1, a_2, ..., a_n  \\rangle$ and a value $\\nu$\n",
    "\n",
    "**output:** an index _i_ such that $\\nu = A[ i ]$ or the special value NIL if $\\nu$ does not appear in $A$.\n",
    "\n",
    "Write the procedure for linear search."
   ]
  },
  {
   "cell_type": "code",
   "execution_count": 5,
   "metadata": {},
   "outputs": [
    {
     "name": "stdout",
     "output_type": "stream",
     "text": [
      "Result of the linear search of 31 in [59, 58, 41, 41, 31, 26]: 5\n",
      "Result of the linear search of 2 in [59, 58, 41, 41, 31, 26]: None\n"
     ]
    }
   ],
   "source": [
    "def linear_search(m_array, m_value):\n",
    "    m_index = None\n",
    "    for j in range(0, len(m_array)):\n",
    "        if m_value == m_array[j]:\n",
    "            m_index = j + 1\n",
    "            break\n",
    "    return m_index\n",
    "\n",
    "print(\"Result of the linear search of {} in {}: {}\".format(str(31),\n",
    "                                                           array_to_sort,\n",
    "                                                           linear_search(array_to_sort, 31)))\n",
    "print(\"Result of the linear search of {} in {}: {}\".format(str(2),\n",
    "                                                           array_to_sort,\n",
    "                                                           linear_search(array_to_sort, 2)))"
   ]
  },
  {
   "cell_type": "markdown",
   "metadata": {},
   "source": [
    "##### 2.1-4 Consider the following problem:\n",
    "\n",
    "**input**: two $n$-bit binary integers, stored into 2 $n$-element arrays $A$ and $B$\n",
    "\n",
    "**output**: the sum should be stored in binary form in a $(n+1)$-element array $C$."
   ]
  },
  {
   "cell_type": "code",
   "execution_count": 6,
   "metadata": {},
   "outputs": [
    {
     "name": "stdout",
     "output_type": "stream",
     "text": [
      "Binary addition of A[1, 0] + B[1, 0] = [0, 1, 0]\n",
      "Binary addition of A[1, 1] + B[1, 1] = [0, 1, 1]\n"
     ]
    }
   ],
   "source": [
    "def binary_adding(first_arr, sec_arr):\n",
    "    result = [0 for _x in range(0, len(first_arr) + 1)]  #first_arr and sec_arr have the same length\n",
    "    carry = 0\n",
    "    for j in range(0, len(first_arr)):\n",
    "        _sum = carry + first_arr[j] + sec_arr[j]\n",
    "        if _sum > 1:\n",
    "            result[j] = _sum - 2\n",
    "            carry = 1\n",
    "        else:\n",
    "            result[j] = _sum\n",
    "            carry = 0\n",
    "    result[len(first_arr)] = carry\n",
    "    return result\n",
    "\n",
    "A = [1, 0]\n",
    "B = [1, 0]\n",
    "\n",
    "print(\"Binary addition of A{} + B{} = {}\".format(A, B, binary_adding(A, B)))\n",
    "\n",
    "A = [1, 1]\n",
    "B = [1, 1]\n",
    "\n",
    "print(\"Binary addition of A{} + B{} = {}\".format(A, B, binary_adding(A, B)))"
   ]
  },
  {
   "cell_type": "markdown",
   "metadata": {},
   "source": [
    "### 2 - Analysing algorithms\n",
    "\n",
    "Analyzing algorithm now usually means predicting the resources requires: memory, communication bandwidth, but most importantly it is computation time that we want to predict, in order to identify the most efficient candidate algorithm(s).\n",
    "\n",
    "The Random-Access Machine (RAM) model used to establish such estimates encompasses the following assumptions:\n",
    "  - instructions are executed one after another, without concurrent operation;\n",
    "  - those instructions (arithmetic: add, substract, multiply, divide, remainder, floor, ceiling -- related to data movement: load, store, copy -- related to control: (un)-conditional branch, subroutine call and return) take a constant amount of time;\n",
    "  - the data types are integer and floating point, with a limit on the size of each of them -- e.g. when working with integers of size $n$, we assume that integers are represented by $c \\ln n$ bits with $c \\leq 1$.\n",
    "  \n",
    "Note:\n",
    "  - while the operation $2^k$ can be executed in constant-time manner, using bit-twindling (\"shift-left\" instructions), operations such as $x^y$ where $x$ and $y$ are real numbers take several other instructions to execute;\n",
    "  - in this model, there is no hierachy in the memory access, common in contemporary computers (unless explicitely mentioned).\n",
    "\n",
    "#### Analysis of `insertion_sort`\n",
    "\n",
    "**input size**: the most natural measure is _number of items in the input_ (e.g. the array of size $n$ for `insertion_sort`) which includes the _total number of bits_ needed to represent in binary notation\n",
    "\n",
    "Example: - for a graph, the input size can be described by the number of vertices and the number of edgesin the graph\n",
    "\n",
    "**running time**: the number of primitive operations or \"steps\" executed -- where those steps should be defined so as to be machine-independant as possible\n",
    "\n",
    "| _line_ | `insertion_sort`             | _cost_ |            _times_          |\n",
    "|:------:|:------------------------------|:------:|:--------------------------:|\n",
    "|    1   | for $j=2$ to $A.length$      |  $c_1$ |          $$n$$             |\n",
    "|    2   | $key = A[j]$                 |  $c_2$ |         $$n-1$$            |\n",
    "|    3   | $i = j - 1$                  |  $c_4$ |         $$n-1$$            |\n",
    "|    4   | while $i>0$ and $A[i] > key$ |  $c_5$ |   $$\\sum_{j=2}^{n} t_j$$   |\n",
    "|    5   | $A[i+1] = A[i]$              |  $c_6$ | $$\\sum_{j=2}^{n} (t_j-1)$$ |\n",
    "|    6   | $i=i-1$                      |  $c_7$ | $$\\sum_{j=2}^{n} (t_j-1)$$ |\n",
    "|    7   | $A[i+1]=key$                 |  $c_8$ |           $$n-1$$          |\n",
    "\n",
    "The running time of the algorithm is therefore the sum of the _times_ quantities:\n",
    "$$T(n) = c_1n + c_2(n-1) + c_4(n-1) + c_5\\sum_{j=2}^{n} t_j + c_6 \\sum_{j=2}^{n} (t_j-1) + c_7 \\sum_{j=2}^{n} (t_j-1) + c_8(n-1)$$\n",
    "\n",
    "**_Best case scenario_**\n",
    "\n",
    "The array $A$ is already sorted, hence for all given $j$ within the previous set limits, $A[i] \\leq key$ - the conditional check is done $n-1$ time, but the condition is never satisfied, hence no time contribution from the inner while loop commands:\n",
    "$$T_{bc}(n) = c_1n + c_2(n-1) + c_4(n-1) + c_5(n-1) + c_8(n-1)$$\n",
    "$$T_{bc}(n) = (c_1 + c_2 + c_4 + c_5 + c_8)n - (c_2 + c_4 + c_5 + c_8)$$\n",
    "This is a **linear function of $n$**.\n",
    "\n",
    "**_Worst case scenario_**\n",
    "\n",
    "The array $A$ is sorted in the reverse order (decreasing), so $t_j = j$ for all given $j$:\n",
    "$$T_{wc}(n) = c_1n + c_2(n-1) + c_4(n-1) + c_5\\sum_{j=2}^{n} j + c_6 \\sum_{j=2}^{n} (j-1) + c_7 \\sum_{j=2}^{n} (j-1) + c_8(n-1)$$\n",
    "$$T_{wc}(n) = c_1n + c_2(n-1) + c_4(n-1) + c_5(\\frac{n(n+1)}{2}-1) + c_6(\\frac{n(n-1)}{2}) + c_7(\\frac{n(n-1)}{2}) + c_8(n-1)$$\n",
    "$$T_{wc}(n) = \\left(\\frac{c_5 + c_6 + c_7}{2}\\right)n^2 + \\left(c_1 + c_2 + c_4 + \\frac{c_5 - c_6 - c_7}{2} + c_8\\right)n - (c_2 + c_4 + c_5 + c_8)$$\n",
    "This is a **quadratic function of $n$**.\n",
    "\n",
    "#### Worst-case and average case analysis\n",
    "\n",
    "We focus on finding the longest running time for any input of size $n$, justified by:\n",
    "  - the worst case scenario gives an upper bound on the running time, which guarantees taht the algorithm will not take any longer;\n",
    "  - the worst case scenario can often occur -- e.g. if the information is not present in the databases for a search algorithm;\n",
    "  - the average case is often as bad as the worst case -- e.g. for the `insertion_sort`, if half of the aray is sorted and the other half is not, then $t_j$ is roughly equal to $j/2$, hence still running at a quadratic pace in $n$.\n",
    "  \n",
    "**average case scenario**: can be explored with a probabilistic analysis\n",
    "\n",
    "#### Order of growth\n",
    "\n",
    "Already made assumptions:\n",
    "  - each statement cost has been modeled by a fixed constant $c_i$;\n",
    "  - when computing the worst running time, we express the former as $a n^2 + b n +c$, summing $c_i$ as constant.\n",
    "\n",
    "**rate of growth** or **order of growth**: only the factor $n^2$, the leading term, is considered and defined as $\\Theta(n^2)$, dubbed \"theta of $n$-squared\". The constant coefficient $a$ is also ignored, since it is less significant when $n$ becomes large.\n",
    "\n",
    "Usually, one algorithm is considered to be more efficient than another if its worst-case running time has a lower order of growth.\n",
    "\n",
    "##### Exercices\n",
    "\n",
    "##### 2.2-1 Express the function $n^3 / 1000 - 100 n^2 - 100 n + 3$ in terms of $\\Theta$-notation\n",
    "\n",
    "$$\n",
    "\\Theta \\left(n^3 / 1000 - 100 n^2 - 100 n + 3\\right) = \\Theta \\left(n^3\\right)\n",
    "$$\n",
    "\n",
    "##### 2.2-2 `selection_sort` Consider the following problem:\n",
    "\n",
    "**input**: array $A$ of size $n$\n",
    "\n",
    "**output**: sorted array $A$ of size $n$ in increasing order, using the following method -- finding the smallest element and exchanging it with $A[1]$, then moving to the second smallest element and switching it with $A[2]$, etc...\n",
    "\n",
    "The loop invariant is $A$. It is running only on the $n-1$ first elements because the last $n^{th}$ element will be the largest and will have been pushed to the last place."
   ]
  },
  {
   "cell_type": "code",
   "execution_count": 7,
   "metadata": {},
   "outputs": [
    {
     "name": "stdout",
     "output_type": "stream",
     "text": [
      "[-1, 1, 10, 26, 31, 41, 41, 58, 59, 1000]\n"
     ]
    }
   ],
   "source": [
    "def selection_sort(m_array):\n",
    "    for j in range(0, len(m_array) - 1):\n",
    "        j_min = j\n",
    "        #  determining the smallest after A[j]\n",
    "        for i in range(j, len(m_array)):\n",
    "            if m_array[i] < m_array[j_min]:\n",
    "                j_min = i\n",
    "        #  switching m_array[i] and m_array[j]\n",
    "        m_array[j_min], m_array[j] = m_array[j], m_array[j_min]\n",
    "    return m_array\n",
    "            \n",
    "array_to_sort = [31, 41, 59, 26, 41, 58, 1, -1, 10, 1000]\n",
    "print(selection_sort(array_to_sort))"
   ]
  },
  {
   "cell_type": "markdown",
   "metadata": {},
   "source": [
    "| _line_ | `selection_sort`                   | _cost_ |            _times_        |\n",
    "|:------:|:-----------------------------------|:------:|:-------------------------:|\n",
    "|    1   | for $j=1$ to $A.length-1$          |  $c_1$ |         $$n-1$$           |\n",
    "|    2   | $j_{min} = j$                      |  $c_2$ |         $$n-1$$           |\n",
    "|    3   | for $i=j$ to $A.length$            |  $c_3$ |  $$\\sum_{i=j}^{n} (n-i)$$ |\n",
    "|    4   | if $A[i] < A[j_min]$:              |  $c_4$ |  $$\\sum_{i=j}^{n} (n-i)$$ |\n",
    "|    5   | $j_min = i$                        |  $c_5$ |  $$\\sum_{i=j}^{n} (n-i)$$ |\n",
    "|    6   | $$A[j_min], A[j] = A[j], A[j_min]$$|  $c_6$ |          $$2(n-1)$$       |\n",
    "\n",
    "The running time of the algorithm is therefore the sum of the _times_ quantities:\n",
    "$$T(n) = c_1(n-1) + c_2(n-1) + c_3\\sum_{i=1}^{n-1} (n-i) + c_4\\sum_{i=1}^{n-1} (n-i) + c_5\\sum_{i=1}^{n-1} (n-i) + 2c_6(n-1)$$\n",
    "\n",
    "Best or worst case scenario: $t_j = j$ no matter how $A$ is sorted, and the best and worst running times are of the order of $(c_3 + c_4 + c_5)\\sum_{i=1}^{n-1} (n-i) = \\Theta(n^2)$.\n",
    "\n",
    "###### 2.2-3 Consider the `linear_search`\n",
    "\n",
    "<span style=\"color:red\">Estimate the running time of average and worst-case scenario.</span>\n",
    "    \n",
    "| _line_ | `linear_search`                    | _cost_ |            _times_        |\n",
    "|:------:|:-----------------------------------|:------:|:-------------------------:|\n",
    "|    1   | $index = None$                     |  $c_1$ |          $$1$$            |\n",
    "|    2   | for $j = 0$ to in $A.length$       |  $c_2$ |          $$k$$            |\n",
    "|    3   | if $value = A[j]$                  |  $c_3$ |          $$k$$            |\n",
    "|    4   | $index = j$                        |  $c_4$ |          $$1$$            |\n",
    "|    5   | $break$                            |  $c_5$ |          $$1$$            |\n",
    "\n",
    "Worst case scenario: all values in $A$ have to be checked. Thus $T(n) = \\Theta(A.length) = \\Theta(n)$.\n",
    "\n",
    "<span style=\"color:red\">Average case scenario: an element has a probability $p$ to be the $value$ we are looking for. The element may be in the $k^{th}$ position, so $k-1$ elements will be checked before, which have each the probability $(1-p)$ not to be the element we are looking for. The overall probability to take $k$ step before finding the element is then: $p(1-p)^k$. The sum of all probabilities is then:\n",
    "$$ \\sum^{A.length}_{k = 1} p (1-p)^k + (1-p)^{A.length}$$.\n",
    "</span>\n",
    "\n",
    "##### 2.2-4 Modification of any algorithm to have a good best-case running time?\n",
    "\n",
    "The best-case running time could be artificially created, e.g., by generated a random array of the required size $n$ in hope that it matches the wanted output. The running time would then be of the order of $\\Theta(n)$ in the best-case scenario where the first random draw is the output."
   ]
  },
  {
   "cell_type": "markdown",
   "metadata": {},
   "source": [
    "### 3 - Designing algorithms\n",
    "\n",
    "There are a wide range of algorihm design techniques. `insertion_sort` is based on **incremental** approach. An alternative design approach is the \"divide-and-conquer\", whose algorithms have running times that can easily be determined.\n",
    "\n",
    "#### The divide-and-conquer approach\n",
    "\n",
    "Many algorithms use **recursive** structure: to solve a given problem, they call themselves one or several times to solve closely related subproblems.\n",
    "\n",
    "The **divide-and-conquer** approach involves 3 steps:\n",
    "  - **Divide** the problem into subproblems, smaller instances of the same problem;\n",
    "  - **Conquer** those subproblems with recursive solving, or in a straightforward manner if small enough;\n",
    "  - **Combine** the solutions of those subproblems into the solution of the original problem.\n",
    "  \n",
    "Example of the `merge_sort`algorithm:\n",
    "  - **Divide** the unsorted $n$-element sequence is divided into 2 subsequences of size $n/2$ elements;\n",
    "  - **Conquer** the 2 subsequences are sorted out recursively using `merge_sort`;\n",
    "  - **Combine** the 2 newly sorted subsequences are merged to produce the wanted output.\n",
    "\n",
    "The recursion ends when the subsequences have a size of length $1$. The key operation is the **combine** step, which is called `merge`. The input is an array $A$, divided into 2 sorted subarrays $A[p..q]$ and $A[q+1..r]$ with $p \\leq q < r$. The output is the merged single sorted array that replaces $A[p..r]$. This procedure takes time $\\Theta (n)$ where $n = r-p+1$, the total number of elements to be sorted."
   ]
  },
  {
   "cell_type": "code",
   "execution_count": 3,
   "metadata": {},
   "outputs": [],
   "source": [
    "def split_list(input_list):\n",
    "    \"\"\"\n",
    "    Return 2 sublists from the input list\n",
    "    Even if empty\n",
    "    \"\"\"\n",
    "    splitting_size = len(input_list) // 2\n",
    "    return input_list[:splitting_size], input_list[splitting_size:]\n",
    "\n",
    "def merge(left_list, right_list):\n",
    "    \"\"\"\n",
    "    Merge 2 sorted lists in a final sorted list\n",
    "    \"\"\"\n",
    "    index_left, index_right = 0, 0\n",
    "    merged_list = []\n",
    "    merged_list_len = len(left_list) + len(right_list)\n",
    "    \n",
    "    # Adding sentinels\n",
    "    left_list.append(float('inf'))\n",
    "    right_list.append(float('inf'))\n",
    "    \n",
    "    while len(merged_list) < merged_list_len:\n",
    "        if left_list[index_left] <= right_list[index_right]:\n",
    "            merged_list.append(left_list[index_left])\n",
    "            index_left += 1\n",
    "        else:\n",
    "            merged_list.append(right_list[index_right])\n",
    "            index_right += 1\n",
    "    return merged_list\n",
    "       \n",
    "def merge_sort(input_list):\n",
    "    \"\"\"\n",
    "    Recursive algorithm to sort a given list in ascending order\n",
    "    \"\"\"\n",
    "    if len(input_list) <= 1:\n",
    "        return input_list\n",
    "    else:\n",
    "        left_list, right_list = split_list(input_list)\n",
    "        \n",
    "        left_sorted_list = merge_sort(left_list) #  Recursive use of merge_sort\n",
    "        right_sorted_list = merge_sort(right_list) #  Recursive use of merge_sort\n",
    "        \n",
    "        return merge(left_sorted_list, right_sorted_list)"
   ]
  },
  {
   "cell_type": "markdown",
   "metadata": {},
   "source": [
    "At each end of the subarrays $L$ and $R$ is added a **sentinel**, which is a special value used to simplify the code. Here we use $\\infty$, so that there cannot be a greater value in the other subarray.\n",
    "\n",
    "**Loop invariant** of the `merge` algorithm:\n",
    "  - _initialization_: the `merged_list` is empty prior the loop, `left_list[index_left]` and `right_list[index_right]` are the smallest elements of their own arrays, where `index_left = index_right = 0`\n",
    "  - _maintenance_: if `left_list[index_left]` is smaller then `right_list[index_right]`, then `left_list[index_left]` is the smallest element and will be copied into `merged_list`, which contains the $k$ smallest elements -- after the copy, it contains $k+1$ smallest elements and the increment of `index_left` re-establish the loop invariant in the next iteration; same goes if `right_list[index_right]` is smaller than `left_list[index_left]`;\n",
    "  - _termination_: `merged_list` contains the `merged_list_len` smallest elements in sorted order, and only the sentinels are left in `left_list` and `right_list`.\n",
    "  \n",
    "Running time  of the `merge` algorithm: the for loop takes $\\Theta( `merged_list_len` ) = \\Theta(n)$.\n",
    "\n",
    "#### Analyzing divide-and-conquer algorithms\n",
    "\n",
    "recurrence equation or recurrence\n",
    "\n",
    "$$T(n) =\n",
    "\\begin{cases}\n",
    "  \\Theta(1), & \\text{if n $\\leq$ c}\n",
    "\\\\\n",
    "  aT(n/b) + D(n) + C(n), & \\text{otherwise}\n",
    "\\end{cases}\n",
    "$$\n",
    "\n",
    "##### Analysis of `merge_sort`\n",
    "\n",
    "Assume $n$ is of power 2 for simplification\n",
    "\n",
    "  - divide $D(n) = \\Theta(1)$\n",
    "  - conquer $2 T(n/2)$\n",
    "  - combine $C(n) = \\Theta(n)$\n",
    "  \n",
    "$$T(n) =\n",
    "\\begin{cases}\n",
    "  \\Theta(1), & \\text{if $n = 1$}\n",
    "\\\\\n",
    "  2 T(n/2) + \\Theta(n), & \\text{if $n > 1$}\n",
    "\\end{cases}\n",
    "$$\n",
    "\n",
    "$T(n) = \\Theta(n \\ln n)$\n",
    "\n",
    "$$T(n) =\n",
    "\\begin{cases}\n",
    "  c, & \\text{if $n = 1$}\n",
    "\\\\\n",
    "  2 T(n/2) + c n, & \\text{if $n > 1$}\n",
    "\\end{cases}\n",
    "$$\n",
    "\n",
    "$c$ represents the time required to solve problems of size $1$\n",
    "\n",
    "**recursion tree**\n",
    "\n",
    "cost of each level of the tree\n",
    "\n",
    "add up costs of all levels\n",
    "\n",
    "#### Exercices\n",
    "\n",
    "##### 2.3-1 Apply `merge_sort` on example"
   ]
  },
  {
   "cell_type": "code",
   "execution_count": 4,
   "metadata": {},
   "outputs": [
    {
     "name": "stdout",
     "output_type": "stream",
     "text": [
      "Applying merge_sort to array A = [3, 41, 52, 26, 38, 57, 9, 49] gives result [3, 9, 26, 38, 41, 49, 52, 57]\n"
     ]
    }
   ],
   "source": [
    "A = [3, 41, 52, 26, 38, 57, 9, 49]\n",
    "\n",
    "print(\"Applying merge_sort to array A = {} gives result {}\".format(A, merge_sort(A)))"
   ]
  },
  {
   "cell_type": "markdown",
   "metadata": {},
   "source": [
    "##### 2.3-2 Rewrite `merge`  without sentinels"
   ]
  },
  {
   "cell_type": "code",
   "execution_count": 6,
   "metadata": {},
   "outputs": [
    {
     "name": "stdout",
     "output_type": "stream",
     "text": [
      "Applying merge_sort (without sentinels) to array A = [3, 41, 52, 26, 38, 57, 9, 49] gives result [3, 9, 26, 38, 41, 49, 52, 57]\n"
     ]
    }
   ],
   "source": [
    "def merge_no_sentinels(left_list, right_list):\n",
    "    \"\"\"\n",
    "    Merge 2 sorted lists in a final sorted list\n",
    "    Stop when a sorted list's end is hit\n",
    "    \"\"\"\n",
    "    if len(left_list) == 0:\n",
    "        return right_list\n",
    "    elif len(right_list) == 0:\n",
    "        return left_list\n",
    "    \n",
    "    index_left, index_right = 0, 0\n",
    "    merged_list = []\n",
    "    merged_list_len = len(left_list) + len(right_list)\n",
    "    \n",
    "    while len(merged_list) < merged_list_len:\n",
    "        if left_list[index_left] <= right_list[index_right]:\n",
    "            merged_list.append(left_list[index_left])\n",
    "            index_left += 1\n",
    "        else:\n",
    "            merged_list.append(right_list[index_right])\n",
    "            index_right += 1\n",
    "            \n",
    "        if index_left == len(left_list):\n",
    "            merged_list += right_list[index_right:]\n",
    "            break\n",
    "        elif index_right == len(right_list):\n",
    "            merged_list += left_list[index_left:]\n",
    "            break\n",
    "            \n",
    "    return merged_list\n",
    "\n",
    "def merge_sort_no_sentinels(input_list):\n",
    "    \"\"\"\n",
    "    Recursive algorithm to sort a given list in ascending order\n",
    "    Without using sentinels in the merge of 2 sorted lists\n",
    "    \"\"\"\n",
    "    if len(input_list) <= 1:\n",
    "        return input_list\n",
    "    else:\n",
    "        left_list, right_list = split_list(input_list)\n",
    "        \n",
    "        left_sorted_list = merge_sort(left_list) #  Recursive use of merge_sort\n",
    "        right_sorted_list = merge_sort(right_list) #  Recursive use of merge_sort\n",
    "        \n",
    "        return merge_no_sentinels(left_sorted_list, right_sorted_list)\n",
    "    \n",
    "print(\"Applying merge_sort (without sentinels) to array A = {} gives result {}\".format(A, merge_sort_no_sentinels(A)))"
   ]
  },
  {
   "cell_type": "markdown",
   "metadata": {},
   "source": [
    "##### 2.3-3 Use mathematical induction to show that when $n = 2^k$, $T(n)$ is exactly $n \\log(n)$.\n",
    "\n",
    "##### 2.3-4 `insertion_sort` rewrite\n",
    "\n",
    "In order to sort $A[1 .. n]$, we can recursively sort $A[1 .. n-1]$, the insert $A[n]$ into the sorted array $A[1 .. n-1]$. Worst-case running time?\n",
    "\n",
    "##### 2.3-5 `binary_search` code and worst-case running time"
   ]
  },
  {
   "cell_type": "code",
   "execution_count": null,
   "metadata": {},
   "outputs": [],
   "source": []
  },
  {
   "cell_type": "markdown",
   "metadata": {},
   "source": [
    "##### 2.3-6 `insertion_sort` while loops: replace by `binary_search`?\n",
    "\n",
    "##### 2.3-7 Describe a $\\Theta(n \\ln n)$-time algorithm that:\n",
    "\n",
    "Given a set $S$ of $n$ integers and another integer $x$, determine whether or not there exist 2 elemnts in $S$ whose sum os exactly $x$."
   ]
  },
  {
   "cell_type": "markdown",
   "metadata": {},
   "source": [
    "#### Problems\n",
    "\n",
    "##### 2-1 `Insertion_sort` on small arrays in `merge_sort`\n",
    "\n",
    "##### 2-2 Correctness of `bubble_sort`\n",
    "\n",
    "##### 2-3 Correctness of Horner's rule\n",
    "\n",
    "##### 2-4 Inversions"
   ]
  }
 ],
 "metadata": {
  "kernelspec": {
   "display_name": "Python 3",
   "language": "python",
   "name": "python3"
  },
  "language_info": {
   "codemirror_mode": {
    "name": "ipython",
    "version": 3
   },
   "file_extension": ".py",
   "mimetype": "text/x-python",
   "name": "python",
   "nbconvert_exporter": "python",
   "pygments_lexer": "ipython3",
   "version": "3.7.5"
  }
 },
 "nbformat": 4,
 "nbformat_minor": 4
}
