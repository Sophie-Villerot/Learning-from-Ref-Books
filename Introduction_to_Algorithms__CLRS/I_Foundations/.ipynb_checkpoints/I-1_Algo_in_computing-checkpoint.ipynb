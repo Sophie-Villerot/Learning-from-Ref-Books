{
 "cells": [
  {
   "cell_type": "markdown",
   "metadata": {},
   "source": [
    "# The role of algorithms in computing\n",
    "\n",
    "\n",
    "## 1 - Algorithm:\n",
    "\n",
    "#### Definition of an algorithm:\n",
    "  - a well defined computational procedure that takes some value (or a set of values) as **input** and returns some value (or a set of values) as **ouput**;\n",
    "  - a sequence of computational steps that transform an input into an output;\n",
    "  - a tool for solving a well-specified computational problem.\n",
    "  \n",
    "#### Definition of the instance of a problem:\n",
    "  - an input satisfying the constraints imposed by the problem statement, needed to compute the solution to the problem.\n",
    "  \n",
    "#### Definition of the correctness of an algorithm:\n",
    "  - if, for every input instance, the algorithm produces the expected output, it is said to be correct.\n",
    "  \n",
    "#### Definition of a solution:\n",
    "  - a correct algorithm to a given computational problem.\n",
    "  \n",
    "#### Definition of a data structure:\n",
    "  - a way to store, organize data to ease access and modifications.\n",
    "  \n",
    "#### Definition of efficiency:\n",
    "  - usual measure for efficiency is speed.\n",
    "  \n",
    "#### Definition of NP-complete problems:\n",
    "  - a subset of all computation problems for which no efficient solution is known, and for a given set of those NP-complete problems, if an efficient algorithm exists for one any of them, then efficient algorithms exist for all of them.\n",
    "\n",
    "  \n",
    "## 2 - Algorithms as technology\n",
    "\n",
    "Computed time is a bounded resource, as memory in space.\n",
    "\n",
    "#### Technology:\n",
    "\n",
    "Algorithms should be considered as technology, such as computer hard-ware. A lot of technologies use algorithms, such as:\n",
    "  - Computer architectures and fabrication,\n",
    "  - GUIs,\n",
    "  - Object-oriented systems,\n",
    "  - Integrated Web technologies,\n",
    "  - Networking, wired or wireless.\n",
    "\n"
   ]
  },
  {
   "cell_type": "code",
   "execution_count": null,
   "metadata": {},
   "outputs": [],
   "source": []
  }
 ],
 "metadata": {
  "kernelspec": {
   "display_name": "Python 3",
   "language": "python",
   "name": "python3"
  },
  "language_info": {
   "codemirror_mode": {
    "name": "ipython",
    "version": 3
   },
   "file_extension": ".py",
   "mimetype": "text/x-python",
   "name": "python",
   "nbconvert_exporter": "python",
   "pygments_lexer": "ipython3",
   "version": "3.7.5"
  }
 },
 "nbformat": 4,
 "nbformat_minor": 4
}
