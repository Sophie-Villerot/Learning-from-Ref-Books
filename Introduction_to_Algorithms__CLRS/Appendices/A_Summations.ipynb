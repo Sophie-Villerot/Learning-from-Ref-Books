{
 "cells": [
  {
   "cell_type": "markdown",
   "metadata": {},
   "source": [
    "# Appendix A - Summations\n",
    "\n",
    "## Summation formulas and properties\n",
    "\n",
    "### Linearity\n",
    "\n",
    "### Arithmetic series\n",
    "\n",
    "### Sums of squares and cubes\n",
    "\n",
    "### Geometric series\n",
    "\n",
    "### Harmonic series\n",
    "\n",
    "### Integrating and differentiating series\n",
    "\n",
    "### Telescoping series\n",
    "\n",
    "### Products\n",
    "\n",
    "#### Exercices\n",
    "\n",
    "## Bounding summations\n",
    "\n",
    "###  Mathematical induction\n",
    "\n",
    "### Bounding the terms\n",
    "\n",
    "### Splitting summations\n",
    "\n",
    "### Approximation by integrals\n",
    "\n",
    "#### Exercices\n",
    "\n",
    "#### Problems"
   ]
  },
  {
   "cell_type": "code",
   "execution_count": null,
   "metadata": {},
   "outputs": [],
   "source": []
  }
 ],
 "metadata": {
  "kernelspec": {
   "display_name": "Python 3",
   "language": "python",
   "name": "python3"
  },
  "language_info": {
   "codemirror_mode": {
    "name": "ipython",
    "version": 3
   },
   "file_extension": ".py",
   "mimetype": "text/x-python",
   "name": "python",
   "nbconvert_exporter": "python",
   "pygments_lexer": "ipython3",
   "version": "3.7.5"
  }
 },
 "nbformat": 4,
 "nbformat_minor": 4
}
